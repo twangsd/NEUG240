{
 "cells": [
  {
   "cell_type": "code",
   "execution_count": 102,
   "metadata": {
    "collapsed": true
   },
   "outputs": [],
   "source": [
    "from __future__ import division\n",
    "import numpy as np\n",
    "from scipy import linalg as la\n",
    "import matplotlib.pyplot as plt\n",
    "%matplotlib inline"
   ]
  },
  {
   "cell_type": "code",
   "execution_count": 152,
   "metadata": {
    "collapsed": false
   },
   "outputs": [],
   "source": [
    "def projection(v,u):\n",
    "    return ((v.dot(u))/(u.dot(u)))*u\n",
    "\n",
    "def vector_unit(v):\n",
    "    return v/np.sqrt(v.dot(v))"
   ]
  },
  {
   "cell_type": "markdown",
   "metadata": {},
   "source": [
    "#### Problem 3"
   ]
  },
  {
   "cell_type": "code",
   "execution_count": 132,
   "metadata": {
    "collapsed": true
   },
   "outputs": [],
   "source": [
    "v_project = np.array([-4,-2,3,1.2,-5.5,8.8,-1.9])\n",
    "s1 = np.array([1,1,3,1,-1,-3,9])\n",
    "s2 = np.array([1,-2,3,1,-1,4,-3])"
   ]
  },
  {
   "cell_type": "code",
   "execution_count": 140,
   "metadata": {
    "collapsed": true
   },
   "outputs": [],
   "source": [
    "v_k = v_project\n",
    "v1 = s1\n",
    "v2 = s2"
   ]
  },
  {
   "cell_type": "code",
   "execution_count": 141,
   "metadata": {
    "collapsed": false
   },
   "outputs": [],
   "source": [
    "u1 = s1\n",
    "u2 = v2-projection(v2,u1)"
   ]
  },
  {
   "cell_type": "code",
   "execution_count": 143,
   "metadata": {
    "collapsed": false
   },
   "outputs": [],
   "source": [
    "u3 = v_k - projection(v_k,u1) - projection(v_k,u2)"
   ]
  },
  {
   "cell_type": "code",
   "execution_count": 151,
   "metadata": {
    "collapsed": false
   },
   "outputs": [
    {
     "data": {
      "text/plain": [
       "array([-5.50952099,  0.79231224, -1.52856298, -0.30952099, -3.99047901,\n",
       "        3.2909521 ,  1.721644  ])"
      ]
     },
     "execution_count": 151,
     "metadata": {},
     "output_type": "execute_result"
    }
   ],
   "source": [
    "u3"
   ]
  },
  {
   "cell_type": "markdown",
   "metadata": {},
   "source": [
    "#### Problem 4"
   ]
  },
  {
   "cell_type": "code",
   "execution_count": 208,
   "metadata": {
    "collapsed": true
   },
   "outputs": [],
   "source": [
    "A = np.matrix([[-4,1,1],[-2,-2,1],[3,-10,4]])\n",
    "eigvals,eigvecs = np.linalg.eig(A)"
   ]
  },
  {
   "cell_type": "code",
   "execution_count": 209,
   "metadata": {
    "collapsed": false
   },
   "outputs": [],
   "source": [
    "eigvecs_a = np.array(eigvecs)"
   ]
  },
  {
   "cell_type": "code",
   "execution_count": 210,
   "metadata": {
    "collapsed": false
   },
   "outputs": [
    {
     "data": {
      "text/plain": [
       "array([[ 0.07175536+1.63413753j,  0.07175536-1.63413753j,  0.48856061+0.j        ],\n",
       "       [-0.88930480+1.42423762j, -0.88930480-1.42423762j,  0.40910127+0.j        ],\n",
       "       [-1.63505539+1.02092163j, -1.63505539-1.02092163j,  3.08340399+0.j        ]])"
      ]
     },
     "execution_count": 210,
     "metadata": {},
     "output_type": "execute_result"
    }
   ],
   "source": [
    "eigvals*eigvecs_a"
   ]
  },
  {
   "cell_type": "code",
   "execution_count": 211,
   "metadata": {
    "collapsed": false
   },
   "outputs": [
    {
     "data": {
      "text/plain": [
       "matrix([[ 0.07175536+1.63413753j,  0.07175536-1.63413753j,  0.48856061+0.j        ],\n",
       "        [-0.88930480+1.42423762j, -0.88930480-1.42423762j,  0.40910127+0.j        ],\n",
       "        [-1.63505539+1.02092163j, -1.63505539-1.02092163j,  3.08340399+0.j        ]])"
      ]
     },
     "execution_count": 211,
     "metadata": {},
     "output_type": "execute_result"
    }
   ],
   "source": [
    "A*eigvecs_a"
   ]
  },
  {
   "cell_type": "code",
   "execution_count": 215,
   "metadata": {
    "collapsed": false
   },
   "outputs": [
    {
     "name": "stdout",
     "output_type": "stream",
     "text": [
      "[[ -5.55111512e-16 +2.77555756e-16j   1.50852058e+00 -8.52306344e-01j\n",
      "    8.88010415e-01 -2.49414757e-01j]\n",
      " [  7.80755880e-01 +1.59805692e+00j  -1.11022302e-16 -1.11022302e-16j\n",
      "    7.43584681e-01 +2.08850020e-01j]\n",
      " [ -3.63486526e+00 +1.02092163e+00j  -3.63486526e+00 -1.02092163e+00j\n",
      "   -1.99840144e-15 +0.00000000e+00j]]\n"
     ]
    }
   ],
   "source": [
    "print (A-eigvals*np.identity(3))*eigvecs_a"
   ]
  },
  {
   "cell_type": "code",
   "execution_count": 281,
   "metadata": {
    "collapsed": true
   },
   "outputs": [],
   "source": [
    "ttA = np.matrix([[-1,2,2],[2,2,-1],[2,-1,2]])"
   ]
  },
  {
   "cell_type": "code",
   "execution_count": 282,
   "metadata": {
    "collapsed": true
   },
   "outputs": [],
   "source": [
    "ttA_inv = ttA**-1"
   ]
  },
  {
   "cell_type": "code",
   "execution_count": 283,
   "metadata": {
    "collapsed": false
   },
   "outputs": [
    {
     "data": {
      "text/plain": [
       "matrix([[-0.11111111,  0.22222222,  0.22222222],\n",
       "        [ 0.22222222,  0.22222222, -0.11111111],\n",
       "        [ 0.22222222, -0.11111111,  0.22222222]])"
      ]
     },
     "execution_count": 283,
     "metadata": {},
     "output_type": "execute_result"
    }
   ],
   "source": [
    "ttA_inv"
   ]
  },
  {
   "cell_type": "code",
   "execution_count": 284,
   "metadata": {
    "collapsed": false
   },
   "outputs": [
    {
     "data": {
      "text/plain": [
       "matrix([[-1,  2,  2],\n",
       "        [ 2,  2, -1],\n",
       "        [ 2, -1,  2]])"
      ]
     },
     "execution_count": 284,
     "metadata": {},
     "output_type": "execute_result"
    }
   ],
   "source": [
    "ttA"
   ]
  },
  {
   "cell_type": "code",
   "execution_count": 285,
   "metadata": {
    "collapsed": false
   },
   "outputs": [],
   "source": [
    "tteval,ttevec = np.linalg.eig(ttA)\n",
    "tteval_inv,ttevec_inv = np.linalg.eig(ttA_inv)"
   ]
  },
  {
   "cell_type": "code",
   "execution_count": 291,
   "metadata": {
    "collapsed": false
   },
   "outputs": [
    {
     "data": {
      "text/plain": [
       "array([-3.,  3.,  3.])"
      ]
     },
     "execution_count": 291,
     "metadata": {},
     "output_type": "execute_result"
    }
   ],
   "source": [
    "tteval"
   ]
  },
  {
   "cell_type": "code",
   "execution_count": 328,
   "metadata": {
    "collapsed": false
   },
   "outputs": [
    {
     "data": {
      "text/plain": [
       "matrix([[-1,  2,  2],\n",
       "        [ 2,  2, -1],\n",
       "        [ 2, -1,  2]])"
      ]
     },
     "execution_count": 328,
     "metadata": {},
     "output_type": "execute_result"
    }
   ],
   "source": [
    "ttA"
   ]
  },
  {
   "cell_type": "code",
   "execution_count": 329,
   "metadata": {
    "collapsed": false
   },
   "outputs": [
    {
     "data": {
      "text/plain": [
       "matrix([[-0.11111111,  0.22222222,  0.22222222],\n",
       "        [ 0.22222222,  0.22222222, -0.11111111],\n",
       "        [ 0.22222222, -0.11111111,  0.22222222]])"
      ]
     },
     "execution_count": 329,
     "metadata": {},
     "output_type": "execute_result"
    }
   ],
   "source": [
    "ttA_inv"
   ]
  },
  {
   "cell_type": "code",
   "execution_count": 335,
   "metadata": {
    "collapsed": false
   },
   "outputs": [
    {
     "data": {
      "text/plain": [
       "array([-0.33333333,  0.33333333,  0.33333333])"
      ]
     },
     "execution_count": 335,
     "metadata": {},
     "output_type": "execute_result"
    }
   ],
   "source": [
    "tteval_inv"
   ]
  },
  {
   "cell_type": "code",
   "execution_count": 336,
   "metadata": {
    "collapsed": false
   },
   "outputs": [
    {
     "data": {
      "text/plain": [
       "array([ 0.25, -0.5 , -0.5 ])"
      ]
     },
     "execution_count": 336,
     "metadata": {},
     "output_type": "execute_result"
    }
   ],
   "source": [
    "1/(1-tteval)"
   ]
  },
  {
   "cell_type": "code",
   "execution_count": 326,
   "metadata": {
    "collapsed": false
   },
   "outputs": [
    {
     "data": {
      "text/plain": [
       "matrix([[-0.81649658,  0.57735027, -0.27602622],\n",
       "        [ 0.40824829,  0.57735027, -0.89708523],\n",
       "        [ 0.40824829,  0.57735027,  0.34503278]])"
      ]
     },
     "execution_count": 326,
     "metadata": {},
     "output_type": "execute_result"
    }
   ],
   "source": [
    "ttevec"
   ]
  },
  {
   "cell_type": "code",
   "execution_count": 295,
   "metadata": {
    "collapsed": false
   },
   "outputs": [
    {
     "data": {
      "text/plain": [
       "array([[ 0.33333333,  0.66666667,  0.66666667],\n",
       "       [-0.66666667,  0.66666667, -0.33333333],\n",
       "       [-0.66666667, -0.33333333,  0.66666667]])"
      ]
     },
     "execution_count": 295,
     "metadata": {},
     "output_type": "execute_result"
    }
   ],
   "source": [
    "tteval_inv*np.array(ttA)"
   ]
  },
  {
   "cell_type": "code",
   "execution_count": 299,
   "metadata": {
    "collapsed": false
   },
   "outputs": [
    {
     "data": {
      "text/plain": [
       "matrix([[ 2.44948974,  1.73205081,  0.63752422],\n",
       "        [-1.22474487,  1.73205081, -1.33487136],\n",
       "        [-1.22474487,  1.73205081,  2.60991979]])"
      ]
     },
     "execution_count": 299,
     "metadata": {},
     "output_type": "execute_result"
    }
   ],
   "source": [
    "ttA*ttevec_inv"
   ]
  },
  {
   "cell_type": "code",
   "execution_count": 300,
   "metadata": {
    "collapsed": false
   },
   "outputs": [
    {
     "data": {
      "text/plain": [
       "matrix([[ 0.27216553,  0.19245009,  0.07083602],\n",
       "        [-0.13608276,  0.19245009, -0.14831904],\n",
       "        [-0.13608276,  0.19245009,  0.28999109]])"
      ]
     },
     "execution_count": 300,
     "metadata": {},
     "output_type": "execute_result"
    }
   ],
   "source": [
    "ttA_inv*ttevec_inv"
   ]
  },
  {
   "cell_type": "code",
   "execution_count": 303,
   "metadata": {
    "collapsed": false
   },
   "outputs": [
    {
     "data": {
      "text/plain": [
       "matrix([[ 0.98912498, -0.01537959, -0.21923568],\n",
       "        [-0.27928406,  0.31213948, -0.78414442],\n",
       "        [ 0.25753402,  1.07131489, -0.33045034]])"
      ]
     },
     "execution_count": 303,
     "metadata": {},
     "output_type": "execute_result"
    }
   ],
   "source": [
    "ttevec_inv.dot(ttevec)"
   ]
  },
  {
   "cell_type": "code",
   "execution_count": null,
   "metadata": {
    "collapsed": true
   },
   "outputs": [],
   "source": []
  }
 ],
 "metadata": {
  "kernelspec": {
   "display_name": "Python 2",
   "language": "python",
   "name": "python2"
  },
  "language_info": {
   "codemirror_mode": {
    "name": "ipython",
    "version": 2
   },
   "file_extension": ".py",
   "mimetype": "text/x-python",
   "name": "python",
   "nbconvert_exporter": "python",
   "pygments_lexer": "ipython2",
   "version": "2.7.12"
  }
 },
 "nbformat": 4,
 "nbformat_minor": 0
}
