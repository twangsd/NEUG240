{
 "cells": [
  {
   "cell_type": "code",
   "execution_count": 1,
   "metadata": {
    "collapsed": false
   },
   "outputs": [],
   "source": [
    "import numpy as np\n",
    "from scipy import linalg as la\n",
    "import matplotlib.pyplot as plt\n",
    "%matplotlib inline"
   ]
  },
  {
   "cell_type": "markdown",
   "metadata": {},
   "source": [
    "# Function Definitions"
   ]
  },
  {
   "cell_type": "code",
   "execution_count": 2,
   "metadata": {
    "collapsed": false
   },
   "outputs": [],
   "source": [
    "def proj(v1, v2):\n",
    "    \"\"\"\n",
    "    Returns the vector projection of v1 onto v2. v2 and v2 are numpy arrays.\n",
    "    \"\"\"\n",
    "    if not (type(v1).__module__ == 'numpy' and type(v1).__module__ == 'numpy'):\n",
    "        raise ValueError('Input a numpy array.')\n",
    "    else:\n",
    "        return (v1.dot(v2)/v2.dot(v2))*v2\n",
    "\n",
    "def vectorize(v):\n",
    "    \"\"\"\n",
    "    Puts vectors into a format for plotting.\n",
    "    \"\"\"\n",
    "    zeros = np.zeros(len(v))\n",
    "    return np.array([[a, b] for a, b in zip(zeros, v)])\n",
    "\n",
    "def norm(v):\n",
    "    \"\"\"\n",
    "    Normalizes the input vector.\n",
    "    \"\"\"\n",
    "    if not (type(v).__module__ == 'numpy'):\n",
    "        raise ValueError('Input a numpy array')\n",
    "    else:\n",
    "        return v/np.sqrt(v.dot(v))\n",
    "\n",
    "def v_len(v):\n",
    "    \"\"\"\n",
    "    Simple ass function for getting vector length.\n",
    "    \"\"\"\n",
    "    if not (type(v).__module__ == 'numpy'):\n",
    "        raise ValueError(\"Fuck.\")\n",
    "    else:\n",
    "        return np.sqrt(v.dot(v))"
   ]
  },
  {
   "cell_type": "markdown",
   "metadata": {},
   "source": [
    "# Problem 3"
   ]
  },
  {
   "cell_type": "code",
   "execution_count": 8,
   "metadata": {
    "collapsed": true
   },
   "outputs": [],
   "source": [
    "a = np.array([-4, -2, 3, 1.2, -5.5, 8.8, -1.9])\n",
    "\n",
    "b = np.array([1, 1, 3, 1, -1, -3, 9])\n",
    "c = np.array([1, -2, 3, 1, -1, 4, -3])"
   ]
  },
  {
   "cell_type": "markdown",
   "metadata": {},
   "source": [
    "## Approach\n",
    "\n",
    "Projection of a vector onto a multi-vector subspace is most easily achieved if the target vector subspace is spanned by orthonormal vectors. This can be achieved with the Gram-Schmidt Process. Then the projection on the subspace is the sum of the projection vectors onto each vector, given by the following:\n",
    "\n",
    "$v_{\\| U} = \\sum_{i =1}^k \\frac{\\langle v, u_i\\rangle}{\\langle u_i, u_i \\rangle} u_i = \\frac{\\langle v , u_1 \\rangle}{\\langle u_1 , u_1 \\rangle} u_1 + \\dots + \\frac{\\langle v , u_k \\rangle}{\\langle u_k , u_k \\rangle} u_k.$"
   ]
  },
  {
   "cell_type": "code",
   "execution_count": 22,
   "metadata": {
    "collapsed": false
   },
   "outputs": [],
   "source": [
    "# Gram-Schmidt process.\n",
    "\n",
    "# Arbitrarily picking b as the first orthogonal vector.\n",
    "b_basis = norm(b)\n",
    "\n",
    "# Subtracting projection of c onto b from c, normalizing.\n",
    "c_proj_b = proj(c, b)\n",
    "c_basis = norm(c - c_proj_b)"
   ]
  },
  {
   "cell_type": "code",
   "execution_count": 19,
   "metadata": {
    "collapsed": false
   },
   "outputs": [
    {
     "data": {
      "text/plain": [
       "array([ 0.09853293,  0.09853293,  0.29559878,  0.09853293, -0.09853293,\n",
       "       -0.29559878,  0.88679635])"
      ]
     },
     "execution_count": 19,
     "metadata": {},
     "output_type": "execute_result"
    }
   ],
   "source": [
    "b_basis"
   ]
  },
  {
   "cell_type": "code",
   "execution_count": 6,
   "metadata": {
    "collapsed": false
   },
   "outputs": [
    {
     "data": {
      "text/plain": [
       "array([ 0.21566555, -0.10783277,  0.64699664,  0.21566555, -0.21566555,\n",
       "        0.10783277,  0.64699664])"
      ]
     },
     "execution_count": 6,
     "metadata": {},
     "output_type": "execute_result"
    }
   ],
   "source": [
    "c_basis"
   ]
  },
  {
   "cell_type": "code",
   "execution_count": 21,
   "metadata": {
    "collapsed": false
   },
   "outputs": [
    {
     "data": {
      "text/plain": [
       "0.99999999999999989"
      ]
     },
     "execution_count": 21,
     "metadata": {},
     "output_type": "execute_result"
    }
   ],
   "source": [
    "v_len(c_basis)"
   ]
  },
  {
   "cell_type": "code",
   "execution_count": 29,
   "metadata": {
    "collapsed": false
   },
   "outputs": [
    {
     "data": {
      "text/plain": [
       "array([[ 0.        ,  0.21566555],\n",
       "       [ 0.        , -0.10783277],\n",
       "       [ 0.        ,  0.64699664],\n",
       "       [ 0.        ,  0.21566555],\n",
       "       [ 0.        , -0.21566555],\n",
       "       [ 0.        ,  0.10783277],\n",
       "       [ 0.        ,  0.64699664]])"
      ]
     },
     "execution_count": 29,
     "metadata": {},
     "output_type": "execute_result"
    }
   ],
   "source": [
    "vec"
   ]
  },
  {
   "cell_type": "code",
   "execution_count": null,
   "metadata": {
    "collapsed": true
   },
   "outputs": [],
   "source": []
  },
  {
   "cell_type": "code",
   "execution_count": 28,
   "metadata": {
    "collapsed": false
   },
   "outputs": [
    {
     "data": {
      "text/plain": [
       "array([ 0.        ,  0.21566555])"
      ]
     },
     "execution_count": 28,
     "metadata": {},
     "output_type": "execute_result"
    }
   ],
   "source": [
    "vec[0]"
   ]
  },
  {
   "cell_type": "code",
   "execution_count": 23,
   "metadata": {
    "collapsed": false
   },
   "outputs": [
    {
     "data": {
      "text/plain": [
       "0.78625583551418454"
      ]
     },
     "execution_count": 23,
     "metadata": {},
     "output_type": "execute_result"
    }
   ],
   "source": [
    "np.dot(b_basis, c_basis)"
   ]
  },
  {
   "cell_type": "code",
   "execution_count": 20,
   "metadata": {
    "collapsed": false
   },
   "outputs": [
    {
     "data": {
      "text/plain": [
       "0.78625583551418454"
      ]
     },
     "execution_count": 20,
     "metadata": {},
     "output_type": "execute_result"
    }
   ],
   "source": [
    "# Are the new bases actually orthogonal?\n",
    "\n",
    "b_basis.dot(c_basis)"
   ]
  },
  {
   "cell_type": "code",
   "execution_count": 7,
   "metadata": {
    "collapsed": false
   },
   "outputs": [
    {
     "data": {
      "text/plain": [
       "0.78625583551418454"
      ]
     },
     "execution_count": 7,
     "metadata": {},
     "output_type": "execute_result"
    }
   ],
   "source": [
    "# Are the new bases actually orthogonal?\n",
    "\n",
    "b_basis.dot(c_basis)"
   ]
  },
  {
   "cell_type": "code",
   "execution_count": 7,
   "metadata": {
    "collapsed": true
   },
   "outputs": [],
   "source": [
    "# Applying formula above, adding vector projections.\n",
    "\n",
    "a_proj_bc = proj(a, b_basis) + proj(a, c_basis)"
   ]
  },
  {
   "cell_type": "code",
   "execution_count": 10,
   "metadata": {
    "collapsed": false
   },
   "outputs": [
    {
     "name": "stdout",
     "output_type": "stream",
     "text": [
      "8.881784197e-15 -7.1054273576e-15\n"
     ]
    }
   ],
   "source": [
    "# Checking that if I subtract the projection of a onto b and onto c that I get a third basis vector that is orthogonal \n",
    "# to both b and c.\n",
    "\n",
    "proj_ab = proj(a, b_basis)\n",
    "proj_ac = proj(a, c_basis)\n",
    "\n",
    "a_basis = a - proj_ab - proj_ac\n",
    "\n",
    "print(a_basis.dot(b), a_basis.dot(c))"
   ]
  },
  {
   "cell_type": "markdown",
   "metadata": {},
   "source": [
    "## Validating the functions\n",
    "\n",
    "Just validating that the function definitions above do what they're supposed to do; i.e. get projections, normalize, etc..."
   ]
  },
  {
   "cell_type": "code",
   "execution_count": 11,
   "metadata": {
    "collapsed": false
   },
   "outputs": [],
   "source": [
    "# Making a couple random vectors, projecting v2 onto v1, and getting normalized vectors for all of the vectors. Vectorize \n",
    "# function formats vectors to look like a vector when used with plt.plot.\n",
    "\n",
    "v1 = np.array([1, 3])\n",
    "v1_norm = norm(v1)\n",
    "v1_vec = vectorize(v1)\n",
    "v1_norm_vec = vectorize(v1_norm)\n",
    "\n",
    "v2 = np.array([4, 2])\n",
    "v2_norm = norm(v2)\n",
    "v2_vec = vectorize(v2)\n",
    "v2_norm_vec = vectorize(v2_norm)\n",
    "\n",
    "v1_v2 = proj(v1, v2)\n",
    "v1_b = v1 - v1_v2\n",
    "v1_b = norm(v1_b)\n",
    "v1_b_vec = vectorize(v1_b)"
   ]
  },
  {
   "cell_type": "code",
   "execution_count": 13,
   "metadata": {
    "collapsed": false
   },
   "outputs": [
    {
     "data": {
      "image/png": "[encoded data removed]",
      "text/plain": [
       "<matplotlib.figure.Figure at 0x79ba860>"
      ]
     },
     "metadata": {},
     "output_type": "display_data"
    }
   ],
   "source": [
    "vectors = [v2_norm_vec, v2_vec, v1_norm_vec, v1_vec, v2_norm_vec, v1_b_vec]\n",
    "for v in vectors:\n",
    "    plt.plot(v[0], v[1])"
   ]
  },
  {
   "cell_type": "markdown",
   "metadata": {
    "collapsed": true
   },
   "source": [
    "# Problem 4"
   ]
  },
  {
   "cell_type": "code",
   "execution_count": 15,
   "metadata": {
    "collapsed": false
   },
   "outputs": [
    {
     "data": {
      "text/plain": [
       "matrix([[-4,  1,  1],\n",
       "        [-2, -2,  1],\n",
       "        [ 3, 10,  4]])"
      ]
     },
     "execution_count": 15,
     "metadata": {},
     "output_type": "execute_result"
    }
   ],
   "source": [
    "A = np.matrix([[-4, 1, 1], [-2, -2, 1], [3, 10, 4]])\n",
    "A"
   ]
  },
  {
   "cell_type": "code",
   "execution_count": 16,
   "metadata": {
    "collapsed": true
   },
   "outputs": [],
   "source": [
    "# Get eigenvalues and eigenvectors.\n",
    "e_vals, e_vecs = la.eig(A)"
   ]
  },
  {
   "cell_type": "code",
   "execution_count": 17,
   "metadata": {
    "collapsed": false
   },
   "outputs": [
    {
     "data": {
      "text/plain": [
       "array([-4.61011022+0.j, -2.77786946+0.j,  5.38797968+0.j])"
      ]
     },
     "execution_count": 17,
     "metadata": {},
     "output_type": "execute_result"
    }
   ],
   "source": [
    "e_vals"
   ]
  },
  {
   "cell_type": "code",
   "execution_count": 19,
   "metadata": {
    "collapsed": false
   },
   "outputs": [
    {
     "data": {
      "text/plain": [
       "array([[-0.34087679, -0.16764968,  0.11613141],\n",
       "       [-0.552587  ,  0.58708526,  0.10228643],\n",
       "       [ 0.76055941, -0.79197505,  0.98795292]])"
      ]
     },
     "execution_count": 19,
     "metadata": {},
     "output_type": "execute_result"
    }
   ],
   "source": [
    "# linalg.eig outputs eigenvectors such that the column vectors are the eigenvectors, and each eigenvector i is \n",
    "# obtained with e_vecs[:,i].\n",
    "\n",
    "e_vecs"
   ]
  },
  {
   "cell_type": "markdown",
   "metadata": {
    "collapsed": false
   },
   "source": [
    "Using the eigenvector formula to check that matrix A times the eigenvector matrix equals the same thing as the eigenvalue-eigenvector product."
   ]
  },
  {
   "cell_type": "code",
   "execution_count": 23,
   "metadata": {
    "collapsed": false
   },
   "outputs": [
    {
     "data": {
      "text/plain": [
       "array([[ 1.57147955-0.j,  0.46570893-0.j,  0.62571370+0.j],\n",
       "       [ 2.54748699-0.j, -1.63084620+0.j,  0.55111723+0.j],\n",
       "       [-3.50626273+0.j,  2.20000331-0.j,  5.32307028+0.j]])"
      ]
     },
     "execution_count": 23,
     "metadata": {},
     "output_type": "execute_result"
    }
   ],
   "source": [
    "e_vecs*e_vals"
   ]
  },
  {
   "cell_type": "code",
   "execution_count": 24,
   "metadata": {
    "collapsed": false
   },
   "outputs": [
    {
     "data": {
      "text/plain": [
       "matrix([[ 1.57147955,  0.46570893,  0.6257137 ],\n",
       "        [ 2.54748699, -1.6308462 ,  0.55111723],\n",
       "        [-3.50626273,  2.20000331,  5.32307028]])"
      ]
     },
     "execution_count": 24,
     "metadata": {},
     "output_type": "execute_result"
    }
   ],
   "source": [
    "A*e_vecs"
   ]
  }
 ],
 "metadata": {
  "kernelspec": {
   "display_name": "Python 2",
   "language": "python",
   "name": "python2"
  },
  "language_info": {
   "codemirror_mode": {
    "name": "ipython",
    "version": 2
   },
   "file_extension": ".py",
   "mimetype": "text/x-python",
   "name": "python",
   "nbconvert_exporter": "python",
   "pygments_lexer": "ipython2",
   "version": "2.7.12"
  }
 },
 "nbformat": 4,
 "nbformat_minor": 0
}
