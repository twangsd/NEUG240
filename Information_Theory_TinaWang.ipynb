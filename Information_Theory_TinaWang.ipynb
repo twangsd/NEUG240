{
 "cells": [
  {
   "cell_type": "code",
   "execution_count": 1,
   "metadata": {
    "collapsed": true
   },
   "outputs": [],
   "source": [
    "from __future__ import division\n",
    "import numpy as np\n",
    "import pandas as pd"
   ]
  },
  {
   "cell_type": "markdown",
   "metadata": {},
   "source": [
    "# Information Theory Problem Set 1"
   ]
  },
  {
   "cell_type": "markdown",
   "metadata": {},
   "source": [
    "### 1"
   ]
  },
  {
   "cell_type": "code",
   "execution_count": 30,
   "metadata": {
    "collapsed": true
   },
   "outputs": [],
   "source": [
    "entropy = lambda x: -1*sum([y*np.log2(y) for y in x])"
   ]
  },
  {
   "cell_type": "markdown",
   "metadata": {},
   "source": [
    "a"
   ]
  },
  {
   "cell_type": "code",
   "execution_count": 31,
   "metadata": {
    "collapsed": false
   },
   "outputs": [
    {
     "data": {
      "text/plain": [
       "1.7609640474436812"
      ]
     },
     "execution_count": 31,
     "metadata": {},
     "output_type": "execute_result"
    }
   ],
   "source": [
    "probs = [.1,.2,.5,.2]\n",
    "entropy(probs)"
   ]
  },
  {
   "cell_type": "markdown",
   "metadata": {},
   "source": [
    "b"
   ]
  },
  {
   "cell_type": "code",
   "execution_count": 32,
   "metadata": {
    "collapsed": false
   },
   "outputs": [
    {
     "data": {
      "text/plain": [
       "1.882053725693543"
      ]
     },
     "execution_count": 32,
     "metadata": {},
     "output_type": "execute_result"
    }
   ],
   "source": [
    "probs2 = [.1,.4,.5,.3]\n",
    "entropy(probs2)"
   ]
  },
  {
   "cell_type": "markdown",
   "metadata": {},
   "source": [
    "### 3b"
   ]
  },
  {
   "cell_type": "code",
   "execution_count": 33,
   "metadata": {
    "collapsed": false
   },
   "outputs": [
    {
     "name": "stdout",
     "output_type": "stream",
     "text": [
      "0.03125 5.0\n",
      "0.03125 5.0\n",
      "0.03125 5.0\n",
      "0.125 3.0\n",
      "0.25 2.0\n",
      "0.5 1.0\n",
      "0.015625 6.0\n",
      "0.015625 6.0\n"
     ]
    }
   ],
   "source": [
    "#Optimal codeword length for a given probability\n",
    "probs3 = [0.03125, 0.03125, 0.03125, 0.125, 0.25, 0.5, 0.015625, 0.015625]\n",
    "for y in probs3:\n",
    "    print y, np.log2(1/y)"
   ]
  },
  {
   "cell_type": "markdown",
   "metadata": {},
   "source": [
    "### 5a"
   ]
  },
  {
   "cell_type": "code",
   "execution_count": 2,
   "metadata": {
    "collapsed": false
   },
   "outputs": [],
   "source": [
    "import scipy.io as sio\n",
    "data = sio.loadmat('spike_data.mat')['data']"
   ]
  },
  {
   "cell_type": "code",
   "execution_count": 5,
   "metadata": {
    "collapsed": false
   },
   "outputs": [
    {
     "data": {
      "text/plain": [
       "array([[0, 0, 0],\n",
       "       [0, 0, 0],\n",
       "       [0, 0, 0],\n",
       "       ..., \n",
       "       [0, 0, 0],\n",
       "       [0, 0, 0],\n",
       "       [0, 0, 0]], dtype=uint8)"
      ]
     },
     "execution_count": 5,
     "metadata": {},
     "output_type": "execute_result"
    }
   ],
   "source": [
    "data"
   ]
  },
  {
   "cell_type": "code",
   "execution_count": 3,
   "metadata": {
    "collapsed": false
   },
   "outputs": [],
   "source": [
    "import collections"
   ]
  },
  {
   "cell_type": "code",
   "execution_count": 102,
   "metadata": {
    "collapsed": true
   },
   "outputs": [],
   "source": [
    "data_ascodewords = [''.join(map(lambda x: str(x),y)) for y in data]"
   ]
  },
  {
   "cell_type": "code",
   "execution_count": 105,
   "metadata": {
    "collapsed": false
   },
   "outputs": [],
   "source": [
    "counts_codeword = collections.Counter(data_ascodewords)"
   ]
  },
  {
   "cell_type": "code",
   "execution_count": 108,
   "metadata": {
    "collapsed": false
   },
   "outputs": [],
   "source": [
    "counts_codeword_freq = {k:v/data.shape[0] for k,v in counts_codeword.iteritems()}"
   ]
  },
  {
   "cell_type": "code",
   "execution_count": 109,
   "metadata": {
    "collapsed": false
   },
   "outputs": [
    {
     "data": {
      "text/plain": [
       "{'000': 0.7061,\n",
       " '001': 0.0381,\n",
       " '010': 0.0101,\n",
       " '011': 0.0407,\n",
       " '100': 0.0478,\n",
       " '101': 0.0029,\n",
       " '110': 0.03,\n",
       " '111': 0.1243}"
      ]
     },
     "execution_count": 109,
     "metadata": {},
     "output_type": "execute_result"
    }
   ],
   "source": [
    "counts_codeword_freq"
   ]
  },
  {
   "cell_type": "code",
   "execution_count": 111,
   "metadata": {
    "collapsed": false
   },
   "outputs": [],
   "source": [
    "entropy_spike = entropy(counts_codeword_freq.values())"
   ]
  },
  {
   "cell_type": "code",
   "execution_count": 112,
   "metadata": {
    "collapsed": false
   },
   "outputs": [
    {
     "data": {
      "text/plain": [
       "1.5488628651357339"
      ]
     },
     "execution_count": 112,
     "metadata": {},
     "output_type": "execute_result"
    }
   ],
   "source": [
    "entropy_spike"
   ]
  },
  {
   "cell_type": "markdown",
   "metadata": {},
   "source": [
    "# Information Theory Problem Set 2"
   ]
  },
  {
   "cell_type": "markdown",
   "metadata": {},
   "source": [
    "2a"
   ]
  },
  {
   "cell_type": "markdown",
   "metadata": {},
   "source": [
    "General formula:<br> \n",
    "I(X;Z|Y) = H(X,Y) + H(Y,Z) - H(X,Y,Z) - H(Y) where H is the entropy/joint entropy formula"
   ]
  },
  {
   "cell_type": "code",
   "execution_count": 113,
   "metadata": {
    "collapsed": true
   },
   "outputs": [],
   "source": [
    "data_df = pd.DataFrame(data,columns=['X','Y','Z'])"
   ]
  },
  {
   "cell_type": "code",
   "execution_count": 453,
   "metadata": {
    "collapsed": true
   },
   "outputs": [],
   "source": [
    "#Frequency of z and y\n",
    "xy_counts = pd.crosstab(data_df['X'],data_df['Y'])\n",
    "xy_freqs = xy_counts/data_df.shape[0]"
   ]
  },
  {
   "cell_type": "code",
   "execution_count": 454,
   "metadata": {
    "collapsed": false
   },
   "outputs": [],
   "source": [
    "yz_counts = pd.crosstab(data_df['Y'],data_df['Z'])\n",
    "yz_freqs = yz_counts/data_df.shape[0]"
   ]
  },
  {
   "cell_type": "code",
   "execution_count": 455,
   "metadata": {
    "collapsed": true
   },
   "outputs": [],
   "source": [
    "xyz_counts = pd.crosstab(data_df['X'],[data_df['Y'],data_df['Z']])\n",
    "xyz_counts_freqs = xyz_counts/data_df.shape[0]"
   ]
  },
  {
   "cell_type": "code",
   "execution_count": 436,
   "metadata": {
    "collapsed": true
   },
   "outputs": [],
   "source": [
    "def joint_entropy(cross_tab):\n",
    "    \"\"\"\"\"\n",
    "    calculates conditional entropy according to the formula:\n",
    "    H(X,Y) = -1* sum for all x sum for all y [p(x,y)*log2(p(y|x))]\n",
    "    \"\"\"\"\"\n",
    "    return -1*(cross_tab*np.log2(cross_tab)).sum().sum()"
   ]
  },
  {
   "cell_type": "code",
   "execution_count": 458,
   "metadata": {
    "collapsed": true
   },
   "outputs": [],
   "source": [
    "I_X_Z_given_Y = joint_entropy(xy_freqs)+joint_entropy(yz_freqs)-joint_entropy(xyz_counts_freqs)-entropy(xy_freqs.sum())"
   ]
  },
  {
   "cell_type": "code",
   "execution_count": 459,
   "metadata": {
    "collapsed": false
   },
   "outputs": [
    {
     "data": {
      "text/plain": [
       "2.7831628835905953e-05"
      ]
     },
     "execution_count": 459,
     "metadata": {},
     "output_type": "execute_result"
    }
   ],
   "source": [
    "I_X_Z_given_Y"
   ]
  },
  {
   "cell_type": "markdown",
   "metadata": {},
   "source": [
    "The value of I(X;Z|Y) ~ 0. This means that knowing if we know information on Z|Y neuron, we gain no additional information about neuron X given Z|Y. Thus X and Z are conditionally independent given Y."
   ]
  },
  {
   "cell_type": "markdown",
   "metadata": {},
   "source": [
    "2b"
   ]
  },
  {
   "cell_type": "markdown",
   "metadata": {},
   "source": [
    "I(X;Y|Z) = H(X,Z) + H(Y,Z) - H(X,Y,Z) - H(Z) where H is the entropy/joint entropy formula"
   ]
  },
  {
   "cell_type": "code",
   "execution_count": 468,
   "metadata": {
    "collapsed": true
   },
   "outputs": [],
   "source": [
    "xz_counts =  pd.crosstab(data_df['X'],data_df['Z'])\n",
    "xz_freqs = xz_counts/data_df.shape[0]"
   ]
  },
  {
   "cell_type": "code",
   "execution_count": 472,
   "metadata": {
    "collapsed": true
   },
   "outputs": [],
   "source": [
    "I_X_Y_given_Z = joint_entropy(xz_freqs)+joint_entropy(yz_freqs)-joint_entropy(xyz_counts_freqs)-entropy(xz_freqs.sum())"
   ]
  },
  {
   "cell_type": "code",
   "execution_count": 473,
   "metadata": {
    "collapsed": false
   },
   "outputs": [
    {
     "data": {
      "text/plain": [
       "0.1273202644492657"
      ]
     },
     "execution_count": 473,
     "metadata": {},
     "output_type": "execute_result"
    }
   ],
   "source": [
    "I_X_Y_given_Z"
   ]
  },
  {
   "cell_type": "code",
   "execution_count": 464,
   "metadata": {
    "collapsed": true
   },
   "outputs": [],
   "source": [
    "def calculate_information(dataframe,x,y):\n",
    "    cross_tab_vals = pd.crosstab(dataframe[x],dataframe[y])/dataframe.shape[0]\n",
    "    return entropy(cross_tab_vals.sum())+entropy(cross_tab_vals.sum(axis=1))-joint_entropy(cross_tab_vals)"
   ]
  },
  {
   "cell_type": "code",
   "execution_count": 465,
   "metadata": {
    "collapsed": true
   },
   "outputs": [],
   "source": [
    "i_x_z = calculate_information(data_df,'X','Z')\n",
    "i_x_y = calculate_information(data_df,'X','Y')"
   ]
  },
  {
   "cell_type": "code",
   "execution_count": 466,
   "metadata": {
    "collapsed": false
   },
   "outputs": [
    {
     "data": {
      "text/plain": [
       "0.29410398764218915"
      ]
     },
     "execution_count": 466,
     "metadata": {},
     "output_type": "execute_result"
    }
   ],
   "source": [
    "i_x_y"
   ]
  },
  {
   "cell_type": "code",
   "execution_count": 467,
   "metadata": {
    "collapsed": false
   },
   "outputs": [
    {
     "data": {
      "text/plain": [
       "0.16681155482175902"
      ]
     },
     "execution_count": 467,
     "metadata": {},
     "output_type": "execute_result"
    }
   ],
   "source": [
    "i_x_z"
   ]
  },
  {
   "cell_type": "markdown",
   "metadata": {},
   "source": [
    "I(X;Z|Y) < I(X;Y|Z). Calculating I(X;Z) and I(X;Y) shows that I(X;Z) < I(X;Y). This means that there is more shared information between X and Y than X and Z. Knowing information about X reduces the uncertainty of Y relative to the uncertainty of Z. "
   ]
  },
  {
   "cell_type": "code",
   "execution_count": null,
   "metadata": {
    "collapsed": true
   },
   "outputs": [],
   "source": []
  }
 ],
 "metadata": {
  "kernelspec": {
   "display_name": "Python 2",
   "language": "python",
   "name": "python2"
  },
  "language_info": {
   "codemirror_mode": {
    "name": "ipython",
    "version": 2
   },
   "file_extension": ".py",
   "mimetype": "text/x-python",
   "name": "python",
   "nbconvert_exporter": "python",
   "pygments_lexer": "ipython2",
   "version": "2.7.12"
  }
 },
 "nbformat": 4,
 "nbformat_minor": 0
}
